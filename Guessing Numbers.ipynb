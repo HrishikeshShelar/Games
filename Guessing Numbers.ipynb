{
 "cells": [
  {
   "cell_type": "code",
   "execution_count": null,
   "id": "63f82984",
   "metadata": {},
   "outputs": [
    {
     "name": "stdout",
     "output_type": "stream",
     "text": [
      "\n",
      "1-Play \n",
      "2-Exit\n",
      "1\n",
      "Enter Your Number: 2\n",
      "You guessed it right. 😃\n",
      "\n",
      "1-Play \n",
      "2-Exit\n",
      "1\n",
      "Enter Your Number: 3\n",
      "Sorry! you guessed wrong,the Correct number was 2 😢\n"
     ]
    }
   ],
   "source": [
    "import random\n",
    "while True:\n",
    "    num=int(input('''\n",
    "1-Play \n",
    "2-Exit\n",
    "'''))\n",
    "    if num==1:\n",
    "        randnum=random.randrange(1,3)\n",
    "        my_num=int(input('Enter Your Number: '))\n",
    "        if my_num>randnum:\n",
    "            print('Sorry! you guessed wrong,the Correct number was',randnum,\"\\U0001F622\")\n",
    "        elif my_num<randnum:\n",
    "            print('Sorry! you guessed wrong,the Correct number was',randnum,\"\\U0001F622\")\n",
    "        elif my_num==randnum:\n",
    "            print('You guessed it right.',\"\\U0001F603\")\n",
    "    else:\n",
    "        break1\n",
    "        "
   ]
  },
  {
   "cell_type": "code",
   "execution_count": null,
   "id": "db810574",
   "metadata": {},
   "outputs": [],
   "source": []
  }
 ],
 "metadata": {
  "kernelspec": {
   "display_name": "Python 3 (ipykernel)",
   "language": "python",
   "name": "python3"
  },
  "language_info": {
   "codemirror_mode": {
    "name": "ipython",
    "version": 3
   },
   "file_extension": ".py",
   "mimetype": "text/x-python",
   "name": "python",
   "nbconvert_exporter": "python",
   "pygments_lexer": "ipython3",
   "version": "3.9.7"
  }
 },
 "nbformat": 4,
 "nbformat_minor": 5
}
